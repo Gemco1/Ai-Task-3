{
 "cells": [
  {
   "cell_type": "code",
   "execution_count": 3,
   "id": "fc613022",
   "metadata": {
    "ExecuteTime": {
     "end_time": "2021-10-03T07:52:09.749517Z",
     "start_time": "2021-10-03T07:51:59.676082Z"
    }
   },
   "outputs": [
    {
     "name": "stdout",
     "output_type": "stream",
     "text": [
      "2\n",
      "45\n",
      "7\n",
      "23\n",
      "47\n",
      "9\n",
      "c\n"
     ]
    }
   ],
   "source": [
    "myList = [45,7,9,5,23,41,66,99,23,47,22,145,78,3,5,6,9,8,7,58,24,53,'E','AI','a','c','b','f',1,10,11,12,17.5]\n",
    "expo = int(input())\n",
    "for item in range(len(myList)):\n",
    "    item = item ** expo\n",
    "    try:\n",
    "        print(myList[item])\n",
    "    except IndexError:\n",
    "        pass"
   ]
  },
  {
   "cell_type": "code",
   "execution_count": null,
   "id": "81048f9c",
   "metadata": {},
   "outputs": [],
   "source": []
  }
 ],
 "metadata": {
  "kernelspec": {
   "display_name": "Python 3",
   "language": "python",
   "name": "python3"
  },
  "language_info": {
   "codemirror_mode": {
    "name": "ipython",
    "version": 3
   },
   "file_extension": ".py",
   "mimetype": "text/x-python",
   "name": "python",
   "nbconvert_exporter": "python",
   "pygments_lexer": "ipython3",
   "version": "3.8.8"
  },
  "varInspector": {
   "cols": {
    "lenName": 16,
    "lenType": 16,
    "lenVar": 40
   },
   "kernels_config": {
    "python": {
     "delete_cmd_postfix": "",
     "delete_cmd_prefix": "del ",
     "library": "var_list.py",
     "varRefreshCmd": "print(var_dic_list())"
    },
    "r": {
     "delete_cmd_postfix": ") ",
     "delete_cmd_prefix": "rm(",
     "library": "var_list.r",
     "varRefreshCmd": "cat(var_dic_list()) "
    }
   },
   "types_to_exclude": [
    "module",
    "function",
    "builtin_function_or_method",
    "instance",
    "_Feature"
   ],
   "window_display": false
  }
 },
 "nbformat": 4,
 "nbformat_minor": 5
}
